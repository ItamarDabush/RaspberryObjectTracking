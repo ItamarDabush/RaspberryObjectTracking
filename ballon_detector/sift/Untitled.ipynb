{
 "cells": [
  {
   "cell_type": "code",
   "execution_count": 1,
   "id": "71eb5ba3",
   "metadata": {},
   "outputs": [],
   "source": [
    "import numpy as np"
   ]
  },
  {
   "cell_type": "code",
   "execution_count": 2,
   "id": "b79f8bd4",
   "metadata": {},
   "outputs": [],
   "source": [
    "import cv2"
   ]
  },
  {
   "cell_type": "code",
   "execution_count": 3,
   "id": "7c8648ee",
   "metadata": {},
   "outputs": [],
   "source": [
    "import numpy as np\n",
    "import cv2\n",
    "img = cv2.imread('../resources/target.JPG')\n",
    "img1 = cv2.imread('../resources/image3.JPG')\n",
    "gray = cv2.cvtColor(img, cv2.COLOR_BGR2GRAY)\n",
    "gray1 = cv2.cvtColor(img1, cv2.COLOR_BGR2GRAY)\n",
    "sift = cv2.SIFT_create(sigma = 3, nOctaveLayers = 20, contrastThreshold = 0.05)\n",
    "keypoints_1, descriptors_1 = sift.detectAndCompute(gray, None)\n",
    "keypoints_2, descriptors_2 = sift.detectAndCompute(gray1, None)\n",
    "\n",
    "bf = cv2.BFMatcher(cv2.NORM_L1, crossCheck=True)\n",
    "\n",
    "matches = bf.match(descriptors_1,descriptors_2)"
   ]
  },
  {
   "cell_type": "code",
   "execution_count": 12,
   "id": "cf82e2cd",
   "metadata": {
    "collapsed": true
   },
   "outputs": [
    {
     "data": {
      "text/plain": [
       "(<DMatch 0000018081F9BF70>,\n",
       " <DMatch 0000018081F9BFD0>,\n",
       " <DMatch 0000018082498490>,\n",
       " <DMatch 00000180824985B0>,\n",
       " <DMatch 00000180824984F0>,\n",
       " <DMatch 0000018082498450>,\n",
       " <DMatch 0000018082498410>,\n",
       " <DMatch 00000180824983F0>,\n",
       " <DMatch 0000018082498550>,\n",
       " <DMatch 0000018082498570>,\n",
       " <DMatch 0000018082498590>,\n",
       " <DMatch 00000180824984B0>,\n",
       " <DMatch 00000180824985D0>,\n",
       " <DMatch 00000180824985F0>,\n",
       " <DMatch 0000018082498610>,\n",
       " <DMatch 0000018082498630>,\n",
       " <DMatch 0000018082498650>,\n",
       " <DMatch 0000018082498670>,\n",
       " <DMatch 0000018082498690>,\n",
       " <DMatch 00000180824986B0>,\n",
       " <DMatch 00000180824986D0>,\n",
       " <DMatch 00000180824986F0>,\n",
       " <DMatch 0000018082498710>,\n",
       " <DMatch 0000018082498730>,\n",
       " <DMatch 0000018082498750>,\n",
       " <DMatch 0000018082498770>,\n",
       " <DMatch 0000018082498790>,\n",
       " <DMatch 00000180824987B0>,\n",
       " <DMatch 00000180824987D0>,\n",
       " <DMatch 00000180824987F0>,\n",
       " <DMatch 0000018082498810>,\n",
       " <DMatch 0000018082498830>,\n",
       " <DMatch 0000018082498850>,\n",
       " <DMatch 0000018082498870>,\n",
       " <DMatch 0000018082498890>,\n",
       " <DMatch 00000180824988B0>,\n",
       " <DMatch 00000180824988D0>,\n",
       " <DMatch 00000180824988F0>,\n",
       " <DMatch 0000018082498910>,\n",
       " <DMatch 0000018082498930>,\n",
       " <DMatch 0000018082498950>,\n",
       " <DMatch 0000018082498970>,\n",
       " <DMatch 0000018082498990>,\n",
       " <DMatch 00000180824989B0>,\n",
       " <DMatch 00000180824989D0>,\n",
       " <DMatch 00000180824989F0>,\n",
       " <DMatch 0000018082498A10>,\n",
       " <DMatch 0000018082498A30>,\n",
       " <DMatch 0000018082498A50>,\n",
       " <DMatch 0000018082498A70>,\n",
       " <DMatch 0000018082498A90>,\n",
       " <DMatch 0000018082498AB0>,\n",
       " <DMatch 0000018082498AD0>,\n",
       " <DMatch 0000018082498AF0>,\n",
       " <DMatch 0000018082498B10>,\n",
       " <DMatch 0000018082498B30>,\n",
       " <DMatch 0000018082498B50>,\n",
       " <DMatch 0000018082498B70>,\n",
       " <DMatch 0000018082498B90>,\n",
       " <DMatch 0000018082498BB0>,\n",
       " <DMatch 0000018082498BD0>,\n",
       " <DMatch 0000018082498BF0>,\n",
       " <DMatch 0000018082498C10>,\n",
       " <DMatch 0000018082498C30>,\n",
       " <DMatch 0000018082498C50>,\n",
       " <DMatch 0000018082498C70>,\n",
       " <DMatch 0000018082498C90>,\n",
       " <DMatch 0000018082498CB0>,\n",
       " <DMatch 0000018082498CD0>,\n",
       " <DMatch 0000018082498CF0>,\n",
       " <DMatch 0000018082498D10>,\n",
       " <DMatch 0000018082498D30>,\n",
       " <DMatch 0000018082498D50>,\n",
       " <DMatch 0000018082498D70>,\n",
       " <DMatch 0000018082498D90>,\n",
       " <DMatch 0000018082498DB0>,\n",
       " <DMatch 0000018082498DD0>,\n",
       " <DMatch 0000018082498DF0>,\n",
       " <DMatch 0000018082498E10>,\n",
       " <DMatch 0000018082498E30>,\n",
       " <DMatch 0000018082498E50>,\n",
       " <DMatch 0000018082498E70>,\n",
       " <DMatch 0000018082498E90>,\n",
       " <DMatch 0000018082498EB0>,\n",
       " <DMatch 0000018082498ED0>,\n",
       " <DMatch 0000018082498EF0>,\n",
       " <DMatch 0000018082498F10>,\n",
       " <DMatch 0000018082498F30>,\n",
       " <DMatch 0000018082498F50>,\n",
       " <DMatch 0000018082498F70>,\n",
       " <DMatch 0000018082498F90>,\n",
       " <DMatch 0000018082498FB0>,\n",
       " <DMatch 0000018082498FD0>,\n",
       " <DMatch 00000180824A5030>,\n",
       " <DMatch 00000180824A5050>,\n",
       " <DMatch 00000180824A5070>,\n",
       " <DMatch 00000180824A5090>,\n",
       " <DMatch 00000180824A50B0>,\n",
       " <DMatch 00000180824A50D0>,\n",
       " <DMatch 00000180824A50F0>,\n",
       " <DMatch 00000180824A5110>,\n",
       " <DMatch 00000180824A5130>,\n",
       " <DMatch 00000180824A5150>,\n",
       " <DMatch 00000180824A5170>,\n",
       " <DMatch 00000180824A5190>,\n",
       " <DMatch 00000180824A51B0>,\n",
       " <DMatch 00000180824A51D0>,\n",
       " <DMatch 00000180824A51F0>,\n",
       " <DMatch 00000180824A5210>,\n",
       " <DMatch 00000180824A5230>,\n",
       " <DMatch 00000180824A5250>,\n",
       " <DMatch 00000180824A5270>,\n",
       " <DMatch 00000180824A5290>,\n",
       " <DMatch 00000180824A52B0>,\n",
       " <DMatch 00000180824A52D0>,\n",
       " <DMatch 00000180824A52F0>,\n",
       " <DMatch 00000180824A5310>,\n",
       " <DMatch 00000180824A5330>,\n",
       " <DMatch 00000180824A5350>,\n",
       " <DMatch 00000180824A5370>,\n",
       " <DMatch 00000180824A5390>,\n",
       " <DMatch 00000180824A53B0>,\n",
       " <DMatch 00000180824A53D0>,\n",
       " <DMatch 00000180824A53F0>,\n",
       " <DMatch 00000180824A5410>,\n",
       " <DMatch 00000180824A5430>,\n",
       " <DMatch 00000180824A5450>,\n",
       " <DMatch 00000180824A5470>,\n",
       " <DMatch 00000180824A5490>,\n",
       " <DMatch 00000180824A54B0>,\n",
       " <DMatch 00000180824A54D0>,\n",
       " <DMatch 00000180824A54F0>,\n",
       " <DMatch 00000180824A5510>,\n",
       " <DMatch 00000180824A5530>,\n",
       " <DMatch 00000180824A5550>,\n",
       " <DMatch 00000180824A5570>,\n",
       " <DMatch 00000180824A5590>,\n",
       " <DMatch 00000180824A55B0>,\n",
       " <DMatch 00000180824A55D0>,\n",
       " <DMatch 00000180824A55F0>,\n",
       " <DMatch 00000180824A5610>,\n",
       " <DMatch 00000180824A5630>,\n",
       " <DMatch 00000180824A5650>,\n",
       " <DMatch 00000180824A5670>,\n",
       " <DMatch 00000180824A5690>,\n",
       " <DMatch 00000180824A56B0>,\n",
       " <DMatch 00000180824A56D0>,\n",
       " <DMatch 00000180824A56F0>,\n",
       " <DMatch 00000180824A5710>,\n",
       " <DMatch 00000180824A5730>,\n",
       " <DMatch 00000180824A5750>,\n",
       " <DMatch 00000180824A5770>,\n",
       " <DMatch 00000180824A5790>,\n",
       " <DMatch 00000180824A57B0>,\n",
       " <DMatch 00000180824A57D0>)"
      ]
     },
     "execution_count": 12,
     "metadata": {},
     "output_type": "execute_result"
    }
   ],
   "source": [
    "matches"
   ]
  },
  {
   "cell_type": "code",
   "execution_count": 24,
   "id": "1733c1f9",
   "metadata": {},
   "outputs": [],
   "source": [
    "matches = sorted(matches, key = lambda x:x.distance)"
   ]
  },
  {
   "cell_type": "code",
   "execution_count": 26,
   "id": "44fe502d",
   "metadata": {},
   "outputs": [
    {
     "data": {
      "text/plain": [
       "110"
      ]
     },
     "execution_count": 26,
     "metadata": {},
     "output_type": "execute_result"
    }
   ],
   "source": [
    "matches[0].queryIdx"
   ]
  },
  {
   "cell_type": "code",
   "execution_count": null,
   "id": "8af45c67",
   "metadata": {},
   "outputs": [],
   "source": []
  },
  {
   "cell_type": "code",
   "execution_count": null,
   "id": "aff13f60",
   "metadata": {},
   "outputs": [],
   "source": []
  }
 ],
 "metadata": {
  "kernelspec": {
   "display_name": "Python 3 (ipykernel)",
   "language": "python",
   "name": "python3"
  },
  "language_info": {
   "codemirror_mode": {
    "name": "ipython",
    "version": 3
   },
   "file_extension": ".py",
   "mimetype": "text/x-python",
   "name": "python",
   "nbconvert_exporter": "python",
   "pygments_lexer": "ipython3",
   "version": "3.8.2"
  }
 },
 "nbformat": 4,
 "nbformat_minor": 5
}
